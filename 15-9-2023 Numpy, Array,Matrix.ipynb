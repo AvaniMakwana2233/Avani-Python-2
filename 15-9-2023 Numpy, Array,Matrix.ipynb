{
 "cells": [
  {
   "cell_type": "code",
   "execution_count": 2,
   "id": "2e96e7b5",
   "metadata": {},
   "outputs": [
    {
     "name": "stdout",
     "output_type": "stream",
     "text": [
      "Requirement already satisfied: numpy in c:\\users\\lenovo\\anaconda\\lib\\site-packages (1.23.5)\n"
     ]
    }
   ],
   "source": [
    "!pip install numpy"
   ]
  },
  {
   "cell_type": "code",
   "execution_count": 3,
   "id": "a9f2b221",
   "metadata": {},
   "outputs": [],
   "source": [
    "import numpy as np"
   ]
  },
  {
   "cell_type": "code",
   "execution_count": 4,
   "id": "b21a27c9",
   "metadata": {},
   "outputs": [],
   "source": [
    "a = np.array([10,    45,  45,  85,   75,   96,     84653])"
   ]
  },
  {
   "cell_type": "code",
   "execution_count": 5,
   "id": "bc7b5df2",
   "metadata": {},
   "outputs": [
    {
     "data": {
      "text/plain": [
       "array([   10,    45,    45,    85,    75,    96, 84653])"
      ]
     },
     "execution_count": 5,
     "metadata": {},
     "output_type": "execute_result"
    }
   ],
   "source": [
    "a"
   ]
  },
  {
   "cell_type": "code",
   "execution_count": 6,
   "id": "1c30aeeb",
   "metadata": {},
   "outputs": [
    {
     "data": {
      "text/plain": [
       "numpy.ndarray"
      ]
     },
     "execution_count": 6,
     "metadata": {},
     "output_type": "execute_result"
    }
   ],
   "source": [
    "type(a)"
   ]
  },
  {
   "cell_type": "code",
   "execution_count": 7,
   "id": "9563be1c",
   "metadata": {},
   "outputs": [],
   "source": [
    "a1 = np.array([45,85,'74','32','4156','15361','python','java'])"
   ]
  },
  {
   "cell_type": "code",
   "execution_count": 8,
   "id": "c8658473",
   "metadata": {},
   "outputs": [
    {
     "data": {
      "text/plain": [
       "array(['45', '85', '74', '32', '4156', '15361', 'python', 'java'],\n",
       "      dtype='<U11')"
      ]
     },
     "execution_count": 8,
     "metadata": {},
     "output_type": "execute_result"
    }
   ],
   "source": [
    "a1"
   ]
  },
  {
   "cell_type": "code",
   "execution_count": 9,
   "id": "83dc5a8f",
   "metadata": {},
   "outputs": [],
   "source": [
    "# int---float---str"
   ]
  },
  {
   "cell_type": "code",
   "execution_count": 10,
   "id": "0b3c487f",
   "metadata": {},
   "outputs": [],
   "source": [
    "a3 = np.array([54,541,546,32,3615],dtype ='float')"
   ]
  },
  {
   "cell_type": "code",
   "execution_count": 11,
   "id": "d2ba8aea",
   "metadata": {},
   "outputs": [
    {
     "data": {
      "text/plain": [
       "array([  54.,  541.,  546.,   32., 3615.])"
      ]
     },
     "execution_count": 11,
     "metadata": {},
     "output_type": "execute_result"
    }
   ],
   "source": [
    "a3"
   ]
  },
  {
   "cell_type": "code",
   "execution_count": 12,
   "id": "bdd2e822",
   "metadata": {},
   "outputs": [],
   "source": [
    "a3 = np.array([54,541,546,32,3615],dtype ='str')"
   ]
  },
  {
   "cell_type": "code",
   "execution_count": 13,
   "id": "7d79b71d",
   "metadata": {},
   "outputs": [
    {
     "data": {
      "text/plain": [
       "array(['54', '541', '546', '32', '3615'], dtype='<U4')"
      ]
     },
     "execution_count": 13,
     "metadata": {},
     "output_type": "execute_result"
    }
   ],
   "source": [
    "a3"
   ]
  },
  {
   "cell_type": "code",
   "execution_count": 14,
   "id": "70488e02",
   "metadata": {},
   "outputs": [],
   "source": [
    "a4 = [10,20,30]"
   ]
  },
  {
   "cell_type": "code",
   "execution_count": 15,
   "id": "7f310816",
   "metadata": {},
   "outputs": [],
   "source": [
    "import numpy as np"
   ]
  },
  {
   "cell_type": "code",
   "execution_count": 16,
   "id": "ffe7e484",
   "metadata": {},
   "outputs": [],
   "source": [
    "x1 = [88,45,45,75,36]"
   ]
  },
  {
   "cell_type": "code",
   "execution_count": 17,
   "id": "06aeea8b",
   "metadata": {},
   "outputs": [],
   "source": [
    "x2 = np.array([87,55,663,77,12,54,'python'])"
   ]
  },
  {
   "cell_type": "code",
   "execution_count": 18,
   "id": "99348266",
   "metadata": {},
   "outputs": [
    {
     "data": {
      "text/plain": [
       "array(['87', '55', '663', '77', '12', '54', 'python'], dtype='<U11')"
      ]
     },
     "execution_count": 18,
     "metadata": {},
     "output_type": "execute_result"
    }
   ],
   "source": [
    "x2"
   ]
  },
  {
   "cell_type": "code",
   "execution_count": 19,
   "id": "a3b54e78",
   "metadata": {},
   "outputs": [
    {
     "data": {
      "text/plain": [
       "44"
      ]
     },
     "execution_count": 19,
     "metadata": {},
     "output_type": "execute_result"
    }
   ],
   "source": [
    "x2.itemsize"
   ]
  },
  {
   "cell_type": "code",
   "execution_count": 20,
   "id": "501db6b6",
   "metadata": {},
   "outputs": [
    {
     "data": {
      "text/plain": [
       "[88, 45, 45, 75, 36]"
      ]
     },
     "execution_count": 20,
     "metadata": {},
     "output_type": "execute_result"
    }
   ],
   "source": [
    "x1"
   ]
  },
  {
   "cell_type": "code",
   "execution_count": 21,
   "id": "7557b465",
   "metadata": {},
   "outputs": [],
   "source": [
    "x2 = np.array([87,55,63,77,12,54],dtype='int8')"
   ]
  },
  {
   "cell_type": "code",
   "execution_count": 22,
   "id": "985b2d13",
   "metadata": {},
   "outputs": [
    {
     "data": {
      "text/plain": [
       "array([87, 55, 63, 77, 12, 54], dtype=int8)"
      ]
     },
     "execution_count": 22,
     "metadata": {},
     "output_type": "execute_result"
    }
   ],
   "source": [
    "x2"
   ]
  },
  {
   "cell_type": "code",
   "execution_count": 23,
   "id": "6e0808fa",
   "metadata": {},
   "outputs": [
    {
     "data": {
      "text/plain": [
       "1"
      ]
     },
     "execution_count": 23,
     "metadata": {},
     "output_type": "execute_result"
    }
   ],
   "source": [
    "x2.itemsize"
   ]
  },
  {
   "cell_type": "code",
   "execution_count": 24,
   "id": "0592ce82",
   "metadata": {},
   "outputs": [
    {
     "data": {
      "text/plain": [
       "6"
      ]
     },
     "execution_count": 24,
     "metadata": {},
     "output_type": "execute_result"
    }
   ],
   "source": [
    "len(x2)*x2.itemsize\n"
   ]
  },
  {
   "cell_type": "code",
   "execution_count": 25,
   "id": "ff44609b",
   "metadata": {},
   "outputs": [
    {
     "data": {
      "text/plain": [
       "[88, 45, 45, 75, 36]"
      ]
     },
     "execution_count": 25,
     "metadata": {},
     "output_type": "execute_result"
    }
   ],
   "source": [
    "x1"
   ]
  },
  {
   "cell_type": "code",
   "execution_count": 26,
   "id": "b92da642",
   "metadata": {},
   "outputs": [],
   "source": [
    "import sys"
   ]
  },
  {
   "cell_type": "code",
   "execution_count": 27,
   "id": "7ea12b6e",
   "metadata": {},
   "outputs": [
    {
     "data": {
      "text/plain": [
       "140"
      ]
     },
     "execution_count": 27,
     "metadata": {},
     "output_type": "execute_result"
    }
   ],
   "source": [
    "sys.getsizeof(x1[0])*len(x1)"
   ]
  },
  {
   "cell_type": "code",
   "execution_count": 32,
   "id": "c1ce3a2f",
   "metadata": {},
   "outputs": [
    {
     "name": "stdout",
     "output_type": "stream",
     "text": [
      "total time by list: 0.5199346542358398\n"
     ]
    }
   ],
   "source": [
    "import time\n",
    "start_time = time.time()\n",
    "p = [ i for i in range(8787421)]\n",
    "end_time = time.time()\n",
    "print(\"total time by list:\",end_time-start_time)"
   ]
  },
  {
   "cell_type": "code",
   "execution_count": 31,
   "id": "0ae02ade",
   "metadata": {},
   "outputs": [
    {
     "name": "stdout",
     "output_type": "stream",
     "text": [
      "total time by np array 0.6374273300170898\n"
     ]
    }
   ],
   "source": [
    "start_time = time.time()\n",
    "p = [ i for i in np.arange(8787421)]\n",
    "end_time=time.time()\n",
    "print(\"total time by np array\",end_time-start_time)"
   ]
  },
  {
   "cell_type": "code",
   "execution_count": null,
   "id": "b568585d",
   "metadata": {},
   "outputs": [],
   "source": []
  },
  {
   "cell_type": "code",
   "execution_count": null,
   "id": "dc4419c7",
   "metadata": {},
   "outputs": [],
   "source": [
    "\n"
   ]
  },
  {
   "cell_type": "code",
   "execution_count": 33,
   "id": "f5b8f6b1",
   "metadata": {},
   "outputs": [],
   "source": [
    "import numpy as np"
   ]
  },
  {
   "cell_type": "code",
   "execution_count": 35,
   "id": "28097259",
   "metadata": {},
   "outputs": [],
   "source": [
    "a = np.array([85,77,96,336])"
   ]
  },
  {
   "cell_type": "code",
   "execution_count": 36,
   "id": "be433435",
   "metadata": {},
   "outputs": [
    {
     "data": {
      "text/plain": [
       "1"
      ]
     },
     "execution_count": 36,
     "metadata": {},
     "output_type": "execute_result"
    }
   ],
   "source": [
    "a.ndim"
   ]
  },
  {
   "cell_type": "code",
   "execution_count": 38,
   "id": "f5a2e277",
   "metadata": {},
   "outputs": [],
   "source": [
    "a = np.array([[87,55,66,33,22],[87,55,69,78,32]])"
   ]
  },
  {
   "cell_type": "code",
   "execution_count": 40,
   "id": "83d7adfd",
   "metadata": {},
   "outputs": [
    {
     "data": {
      "text/plain": [
       "2"
      ]
     },
     "execution_count": 40,
     "metadata": {},
     "output_type": "execute_result"
    }
   ],
   "source": [
    "a.ndim"
   ]
  },
  {
   "cell_type": "code",
   "execution_count": 45,
   "id": "44959d48",
   "metadata": {},
   "outputs": [],
   "source": [
    "a = np.array([[78,85,96,78],[77,55,66,85],[74,85,74,986],[45,74,36,25]])"
   ]
  },
  {
   "cell_type": "code",
   "execution_count": 46,
   "id": "21ae7779",
   "metadata": {},
   "outputs": [
    {
     "data": {
      "text/plain": [
       "2"
      ]
     },
     "execution_count": 46,
     "metadata": {},
     "output_type": "execute_result"
    }
   ],
   "source": [
    "a.ndim"
   ]
  },
  {
   "cell_type": "code",
   "execution_count": 60,
   "id": "4c2e5468",
   "metadata": {},
   "outputs": [],
   "source": [
    "a1 = np.array([[[1,2,3,4],[4,8,5,7]],[[10,20,30,40],[85,74,96,88]],[[85,74,96,33],[45,89,74,52]]])"
   ]
  },
  {
   "cell_type": "code",
   "execution_count": 61,
   "id": "e2b3e225",
   "metadata": {},
   "outputs": [
    {
     "data": {
      "text/plain": [
       "array([[[ 1,  2,  3,  4],\n",
       "        [ 4,  8,  5,  7]],\n",
       "\n",
       "       [[10, 20, 30, 40],\n",
       "        [85, 74, 96, 88]],\n",
       "\n",
       "       [[85, 74, 96, 33],\n",
       "        [45, 89, 74, 52]]])"
      ]
     },
     "execution_count": 61,
     "metadata": {},
     "output_type": "execute_result"
    }
   ],
   "source": [
    "a1"
   ]
  },
  {
   "cell_type": "code",
   "execution_count": 63,
   "id": "871ee951",
   "metadata": {
    "scrolled": true
   },
   "outputs": [
    {
     "data": {
      "text/plain": [
       "3"
      ]
     },
     "execution_count": 63,
     "metadata": {},
     "output_type": "execute_result"
    }
   ],
   "source": [
    "a1.ndim"
   ]
  },
  {
   "cell_type": "code",
   "execution_count": 2,
   "id": "69344ba3",
   "metadata": {},
   "outputs": [],
   "source": [
    "import numpy as np"
   ]
  },
  {
   "cell_type": "code",
   "execution_count": 13,
   "id": "9a0101a7",
   "metadata": {
    "scrolled": true
   },
   "outputs": [],
   "source": [
    "a2 = np.array([[[1,2,3],[4,5,6]],[[4,5,6],[1,2,3]],[[88,88,96],[15,25,36]],[[25,44,58],[84,52,41]]\n",
    "              ])"
   ]
  },
  {
   "cell_type": "code",
   "execution_count": 14,
   "id": "cd474483",
   "metadata": {
    "scrolled": true
   },
   "outputs": [
    {
     "data": {
      "text/plain": [
       "array([[[ 1,  2,  3],\n",
       "        [ 4,  5,  6]],\n",
       "\n",
       "       [[ 4,  5,  6],\n",
       "        [ 1,  2,  3]],\n",
       "\n",
       "       [[88, 88, 96],\n",
       "        [15, 25, 36]],\n",
       "\n",
       "       [[25, 44, 58],\n",
       "        [84, 52, 41]]])"
      ]
     },
     "execution_count": 14,
     "metadata": {},
     "output_type": "execute_result"
    }
   ],
   "source": [
    "a2"
   ]
  },
  {
   "cell_type": "code",
   "execution_count": 15,
   "id": "66a30ccf",
   "metadata": {},
   "outputs": [
    {
     "data": {
      "text/plain": [
       "3"
      ]
     },
     "execution_count": 15,
     "metadata": {},
     "output_type": "execute_result"
    }
   ],
   "source": [
    "a2.ndim"
   ]
  },
  {
   "cell_type": "code",
   "execution_count": null,
   "id": "64b5e95f",
   "metadata": {},
   "outputs": [],
   "source": []
  },
  {
   "cell_type": "code",
   "execution_count": null,
   "id": "bd43bb92",
   "metadata": {},
   "outputs": [],
   "source": [
    "\n",
    "import numpy as np\n",
    "import time\n",
    "starttime=time.time()\n"
   ]
  },
  {
   "cell_type": "code",
   "execution_count": null,
   "id": "2657fdb3",
   "metadata": {},
   "outputs": [],
   "source": [
    "a = np.array(23,85,74,96,45,2563,65)"
   ]
  },
  {
   "cell_type": "code",
   "execution_count": null,
   "id": "9bec9817",
   "metadata": {},
   "outputs": [],
   "source": [
    "a.ndim"
   ]
  },
  {
   "cell_type": "code",
   "execution_count": null,
   "id": "0076c375",
   "metadata": {},
   "outputs": [],
   "source": [
    "a = np.array([[1,2,3,4],[100,200,300,400]])"
   ]
  },
  {
   "cell_type": "code",
   "execution_count": null,
   "id": "63561f25",
   "metadata": {},
   "outputs": [],
   "source": [
    "a"
   ]
  },
  {
   "cell_type": "code",
   "execution_count": null,
   "id": "02939ad2",
   "metadata": {},
   "outputs": [],
   "source": [
    "a.ndim"
   ]
  },
  {
   "cell_type": "code",
   "execution_count": null,
   "id": "599c4e65",
   "metadata": {},
   "outputs": [],
   "source": [
    "a = np.ones((4,4))"
   ]
  },
  {
   "cell_type": "code",
   "execution_count": null,
   "id": "897b15f1",
   "metadata": {},
   "outputs": [],
   "source": [
    "a"
   ]
  },
  {
   "cell_type": "code",
   "execution_count": null,
   "id": "4cc461cc",
   "metadata": {},
   "outputs": [],
   "source": [
    "np.linspace(10,20,4)"
   ]
  },
  {
   "cell_type": "code",
   "execution_count": null,
   "id": "c42fbfa2",
   "metadata": {},
   "outputs": [],
   "source": []
  },
  {
   "cell_type": "code",
   "execution_count": null,
   "id": "bd627306",
   "metadata": {},
   "outputs": [],
   "source": []
  },
  {
   "cell_type": "code",
   "execution_count": null,
   "id": "9cf34c0b",
   "metadata": {},
   "outputs": [],
   "source": []
  },
  {
   "cell_type": "code",
   "execution_count": null,
   "id": "de25d315",
   "metadata": {},
   "outputs": [],
   "source": []
  },
  {
   "cell_type": "code",
   "execution_count": null,
   "id": "605ba0df",
   "metadata": {},
   "outputs": [],
   "source": []
  },
  {
   "cell_type": "code",
   "execution_count": null,
   "id": "d8d9f416",
   "metadata": {},
   "outputs": [],
   "source": []
  },
  {
   "cell_type": "code",
   "execution_count": null,
   "id": "976bba2d",
   "metadata": {},
   "outputs": [],
   "source": []
  },
  {
   "cell_type": "code",
   "execution_count": null,
   "id": "c457fcba",
   "metadata": {},
   "outputs": [],
   "source": []
  },
  {
   "cell_type": "code",
   "execution_count": null,
   "id": "4d8bf3ca",
   "metadata": {},
   "outputs": [],
   "source": []
  },
  {
   "cell_type": "code",
   "execution_count": null,
   "id": "fb42c83c",
   "metadata": {},
   "outputs": [],
   "source": []
  },
  {
   "cell_type": "code",
   "execution_count": null,
   "id": "86477c02",
   "metadata": {},
   "outputs": [],
   "source": []
  },
  {
   "cell_type": "code",
   "execution_count": null,
   "id": "56f6b819",
   "metadata": {},
   "outputs": [],
   "source": []
  },
  {
   "cell_type": "code",
   "execution_count": null,
   "id": "24395355",
   "metadata": {},
   "outputs": [],
   "source": []
  },
  {
   "cell_type": "code",
   "execution_count": null,
   "id": "2b41f671",
   "metadata": {},
   "outputs": [],
   "source": []
  },
  {
   "cell_type": "code",
   "execution_count": null,
   "id": "ddf68402",
   "metadata": {},
   "outputs": [],
   "source": []
  }
 ],
 "metadata": {
  "kernelspec": {
   "display_name": "Python 3 (ipykernel)",
   "language": "python",
   "name": "python3"
  },
  "language_info": {
   "codemirror_mode": {
    "name": "ipython",
    "version": 3
   },
   "file_extension": ".py",
   "mimetype": "text/x-python",
   "name": "python",
   "nbconvert_exporter": "python",
   "pygments_lexer": "ipython3",
   "version": "3.10.9"
  }
 },
 "nbformat": 4,
 "nbformat_minor": 5
}
